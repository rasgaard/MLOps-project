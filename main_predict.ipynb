{
 "cells": [
  {
   "cell_type": "code",
   "execution_count": null,
   "metadata": {},
   "outputs": [],
   "source": [
    "from azureml.core import Experiment, ScriptRunConfig, Environment\r\n",
    "from azureml.core.conda_dependencies import CondaDependencies\r\n",
    "from azureml.core import Workspace, Model\r\n",
    "from azureml.core.model import Model\r\n",
    "\r\n",
    "# make sure it is you own environment\r\n",
    "ws = Workspace.get(name=\"MLOps_day7\",\r\n",
    "               subscription_id='5a60d53a-0d60-4174-a594-5c65a8fc1cbe',\r\n",
    "               resource_group='MLOps')\r\n",
    "\r\n",
    "env = Environment(\"ws_MLOps_env\")\r\n",
    "\r\n",
    "packages = CondaDependencies.create(conda_packages =['pip'],\r\n",
    "                                    pip_packages = ['azureml-defaults', 'transformers', 'torch','torchvision','sklearn','wandb','datasets', 'joblib', 'sklearn'])\r\n",
    "\r\n",
    "env.python.conda_dependencies = packages\r\n",
    "\r\n",
    "#model = ws.models['model']\r\n",
    "#model = Model(ws, 'model')\r\n",
    "\r\n",
    "script_config =ScriptRunConfig(source_directory = '.',\r\n",
    "                                script ='src/models/predict_model.py',\r\n",
    "                                arguments = ['--m', 'Roberta_fakenews_azure.pkl', '--logger', 'azure'],\r\n",
    "                                environment = env)\r\n",
    "\r\n",
    "experiment = Experiment(workspace=ws, name = 'Training-170621')\r\n",
    "run = experiment.submit(config = script_config)\r\n",
    "run.wait_for_completion(show_output=True)\r\n"
   ]
  }
 ],
 "metadata": {
  "interpreter": {
   "hash": "72fb11a2bf3050cc3df2077847b4a7514d828bf092a3c6697a546dfbebfdc8f5"
  },
  "kernelspec": {
   "display_name": "Python 3.9.4 64-bit ('py39': conda)",
   "name": "python3"
  },
  "language_info": {
   "name": "python",
   "version": ""
  },
  "orig_nbformat": 2
 },
 "nbformat": 4,
 "nbformat_minor": 2
}
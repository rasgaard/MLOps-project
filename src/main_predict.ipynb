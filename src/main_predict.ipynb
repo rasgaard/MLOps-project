{
 "metadata": {
  "language_info": {
   "codemirror_mode": {
    "name": "ipython",
    "version": 3
   },
   "file_extension": ".py",
   "mimetype": "text/x-python",
   "name": "python",
   "nbconvert_exporter": "python",
   "pygments_lexer": "ipython3",
   "version": 3
  },
  "orig_nbformat": 2
 },
 "nbformat": 4,
 "nbformat_minor": 2,
 "cells": [
  {
   "cell_type": "code",
   "execution_count": null,
   "metadata": {},
   "outputs": [],
   "source": [
    "from azureml.core import Experiment, ScriptRunConfig, Environment\n",
    "from azureml.core.conda_dependencies import CondaDependencies\n",
    "from azureml.core import Workspace, Model\n",
    "from azureml.core.model import Model\n",
    "\n",
    "ws = Workspace.get(name=\"MLOps_day7\",\n",
    "               subscription_id='5a60d53a-0d60-4174-a594-5c65a8fc1cbe',\n",
    "               resource_group='MLOps')\n",
    "\n",
    "env = Environment(\"ws_MLOps_env\")\n",
    "\n",
    "packages = CondaDependencies.create(conda_packages =['pip'],\n",
    "                                    pip_packages = ['azureml-defaults', 'transformers', 'torch','torchvision','sklearn','wandb','datasets', 'joblib'])\n",
    "\n",
    "env.python.conda_dependencies = packages\n",
    "\n",
    "#model = ws.models['model']\n",
    "#model = Model(ws, 'model')\n",
    "\n",
    "script_config =ScriptRunConfig(source_directory = '.',\n",
    "                                script ='src/models/predict_model.py',\n",
    "                                arguments = ['--m', 'model.pkl'],\n",
    "                                environment = env)\n",
    "\n",
    "experiment = Experiment(workspace=ws, name = 'Training-170621')\n",
    "run = experiment.submit(config = script_config)\n",
    "run.wait_for_completion(show_output=True)\n"
   ]
  }
 ]
}
{
 "metadata": {
  "language_info": {
   "codemirror_mode": {
    "name": "ipython",
    "version": 3
   },
   "file_extension": ".py",
   "mimetype": "text/x-python",
   "name": "python",
   "nbconvert_exporter": "python",
   "pygments_lexer": "ipython3",
   "version": 3
  },
  "orig_nbformat": 2
 },
 "nbformat": 4,
 "nbformat_minor": 2,
 "cells": [
  {
   "cell_type": "code",
   "execution_count": null,
   "metadata": {},
   "outputs": [],
   "source": [
    "from azureml.core import Experiment, ScriptRunConfig, Environment\n",
    "from azureml.core.conda_dependencies import CondaDependencies\n",
    "from azureml.core import Workspace, Model \n",
    "\n",
    "\n",
    "ws = Workspace.get(name=\"MLOps_day7\",\n",
    "               subscription_id='5a60d53a-0d60-4174-a594-5c65a8fc1cbe',\n",
    "               resource_group='MLOps')\n",
    "\n",
    "env = Environment(\"ws_MLOps_env\")\n",
    "\n",
    "packages = CondaDependencies.create(conda_packages =['pip'],\n",
    "                                    pip_packages = ['azureml-defaults', 'transformers', 'torch','torchvision','sklearn','wandb','datasets', 'joblib'])\n",
    "\n",
    "env.python.conda_dependencies = packages\n",
    "\n",
    "script_config =ScriptRunConfig(source_directory = '.',\n",
    "                                script ='src/models/train_model.py',\n",
    "                                arguments = ['--epochs',3],\n",
    "                                environment = env)\n",
    "\n",
    "experiment = Experiment(workspace=ws, name = 'Training-170621')\n",
    "run = experiment.submit(config = script_config)\n",
    "run.wait_for_completion(show_output=True)\n",
    "\n",
    "model = run.register_model(model_path='outputs/model.pkl',model_name='model')\n",
    "# Create a model folder in the current directory\n",
    "os.makedirs('./models', exist_ok=True)\n",
    "# Download the model from run history\n",
    "run.download_file(name='outputs/model.pkl', output_file_path='./models/model.pkl')\n",
    "\n",
    "\n",
    "#model = Model.register(workspace = ws, model_name='model', model_path='outputs/model.pkl')\n",
    "#for m in Model.list(ws):\n",
    "    #print(m.name)\n",
    "\n",
    "#model = run.register_model(model_path='outputs/model.pkl',model_name='model')\n",
    "#model = ws.models['model']\n",
    "#model = Model.register(workspace = ws, model_name='Roberta-fakenews', model_path='outputs/model.pkl')\n",
    "# Create a model folder in the current directory\n",
    "#os.makedirs('./models', exist_ok=True)\n",
    "# Download the model from run history\n",
    "#run.download_file(name='outputs/model.pt', output_file_path='./models/model.pt')\n"
   ]
  }
 ]
}
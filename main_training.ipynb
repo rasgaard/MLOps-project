{
 "cells": [
  {
   "cell_type": "code",
   "execution_count": null,
   "metadata": {},
   "outputs": [],
   "source": [
    "from azureml.core import Experiment, ScriptRunConfig, Environment\r\n",
    "from azureml.core.conda_dependencies import CondaDependencies\r\n",
    "from azureml.core import Workspace, Model \r\n",
    "\r\n",
    "# make sure it is you own environment\r\n",
    "ws = Workspace.get(name=\"MLOps_day7\",\r\n",
    "               subscription_id='5a60d53a-0d60-4174-a594-5c65a8fc1cbe',\r\n",
    "               resource_group='MLOps')\r\n",
    "\r\n",
    "env = Environment(\"ws_MLOps_env\")\r\n",
    "\r\n",
    "packages = CondaDependencies.create(conda_packages =['pip'],\r\n",
    "                                    pip_packages = ['azureml-defaults', 'transformers', 'torch','torchvision','sklearn','wandb','datasets', 'joblib'])\r\n",
    "\r\n",
    "env.python.conda_dependencies = packages\r\n",
    "\r\n",
    "script_config =ScriptRunConfig(source_directory = '.',\r\n",
    "                                script ='src/models/train_model.py',\r\n",
    "                                arguments = ['--epochs',3, '--logger', 'azure'],\r\n",
    "                                environment = env)\r\n",
    "\r\n",
    "experiment = Experiment(workspace=ws, name = 'Training-170621')\r\n",
    "run = experiment.submit(config = script_config)\r\n",
    "run.wait_for_completion(show_output=True)\r\n",
    "\r\n",
    "model = run.register_model(model_path='outputs/Roberta_fakenews_azure.pkl',model_name='Roberta_fakenews_azure')\r\n",
    "# Create a model folder in the current directory\r\n",
    "os.makedirs('./models', exist_ok=True)\r\n",
    "# Download the model from run history\r\n",
    "run.download_file(name='outputs/Roberta_fakenews_azure.pkl', output_file_path='./models/Roberta_fakenews_azure.pkl')\r\n",
    "\r\n",
    "\r\n",
    "#model = Model.register(workspace = ws, model_name='model', model_path='outputs/model.pkl')\r\n",
    "#for m in Model.list(ws):\r\n",
    "    #print(m.name)\r\n",
    "\r\n",
    "#model = run.register_model(model_path='outputs/model.pkl',model_name='model')\r\n",
    "#model = ws.models['model']\r\n",
    "#model = Model.register(workspace = ws, model_name='Roberta-fakenews', model_path='outputs/model.pkl')\r\n",
    "# Create a model folder in the current directory\r\n",
    "#os.makedirs('./models', exist_ok=True)\r\n",
    "# Download the model from run history\r\n",
    "#run.download_file(name='outputs/model.pt', output_file_path='./models/model.pt')\r\n"
   ]
  }
 ],
 "metadata": {
  "language_info": {
   "codemirror_mode": {
    "name": "ipython",
    "version": 3
   },
   "file_extension": ".py",
   "mimetype": "text/x-python",
   "name": "python",
   "nbconvert_exporter": "python",
   "pygments_lexer": "ipython3",
   "version": 3
  },
  "orig_nbformat": 2
 },
 "nbformat": 4,
 "nbformat_minor": 2
}